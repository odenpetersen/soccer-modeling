{
 "cells": [
  {
   "cell_type": "markdown",
   "metadata": {},
   "source": [
    "# Naive match winner prediction from past victory data\n",
    "We implement a logistic regression to predict the result of a match based on previous matches that the two teams have competed in this season"
   ]
  },
  {
   "cell_type": "code",
   "execution_count": 4,
   "metadata": {},
   "outputs": [],
   "source": [
    "import pandas as pd\n",
    "import numpy as np\n",
    "from collections import defaultdict\n",
    "matches_england = pd.read_json(\"../data/figshare/matches_England.json\")\n",
    "\n",
    "\n",
    "def extract_match_results(matches):\n",
    "    def f(row):\n",
    "        teams, scores = row['label'].strip().split(',')\n",
    "        t1, t2 = teams.strip().split(' - ')\n",
    "        s1, s2 = map(int, scores.strip().split(' - '))\n",
    "        date = row['dateutc']\n",
    "        return {'s1': s1, 's2': s2, 'date': date, t1: 1, t2: -1}\n",
    "\n",
    "    results = matches.apply(f, axis=1)\n",
    "\n",
    "    results = pd.DataFrame(list(results))\n",
    "    results = results.sort_values(by='date', axis=0).reset_index()\n",
    "    results = results.fillna(0)\n",
    "\n",
    "    return results\n",
    "\n",
    "\n",
    "\n",
    "results = extract_match_results(matches_england)\n",
    "teamnames = [team for team in results if team not in ['s1', 's2', 'date', 'index']]\n",
    "\n",
    "for i in range(1, len(results)):\n",
    "    if results['date'][i] < results['date'][i-1]:\n",
    "        print(i)\n",
    "    "
   ]
  },
  {
   "cell_type": "code",
   "execution_count": 5,
   "metadata": {},
   "outputs": [
    {
     "name": "stdout",
     "output_type": "stream",
     "text": [
      "Logistic regression accuracy:  0.6825396825396826\n",
      "Logistic regression accuracy:  0.7619047619047619\n",
      "Logistic regression accuracy:  0.6349206349206349\n",
      "Logistic regression accuracy:  0.6507936507936508\n",
      "Logistic regression accuracy:  0.49206349206349204\n"
     ]
    }
   ],
   "source": [
    "from sklearn.linear_model import LogisticRegression, LinearRegression\n",
    "from sklearn.model_selection import TimeSeriesSplit\n",
    "from sklearn.metrics import mean_squared_error as mse, log_loss\n",
    "\n",
    "y, X = (results['s1'] - results['s2']).values, results[teamnames].values\n",
    "tscv = TimeSeriesSplit(n_splits=5)\n",
    "\n",
    "for train_index, test_index in tscv.split(X):\n",
    "    X_train, X_test = X[train_index], X[test_index]\n",
    "    y_train, y_test = y[train_index], y[test_index]\n",
    "\n",
    "    clf = LogisticRegression(random_state=23).fit(X_train, (y_train > 0))\n",
    "    print(\"Logistic regression accuracy: \", clf.score(X_test, y_test > 0))"
   ]
  },
  {
   "cell_type": "code",
   "execution_count": 13,
   "metadata": {},
   "outputs": [
    {
     "name": "stdout",
     "output_type": "stream",
     "text": [
      "0.01 ['0.507', '0.571', '0.571', '0.492', '0.539']\n",
      "0.016 ['0.507', '0.571', '0.571', '0.492', '0.571']\n",
      "0.026 ['0.507', '0.603', '0.619', '0.523', '0.603']\n",
      "0.042 ['0.507', '0.650', '0.666', '0.650', '0.603']\n",
      "0.069 ['0.507', '0.698', '0.666', '0.634', '0.571']\n",
      "0.112 ['0.571', '0.730', '0.666', '0.634', '0.523']\n",
      "0.183 ['0.619', '0.682', '0.650', '0.650', '0.523']\n",
      "0.297 ['0.619', '0.730', '0.650', '0.650', '0.507']\n",
      "0.483 ['0.603', '0.761', '0.634', '0.650', '0.492']\n",
      "0.784 ['0.682', '0.761', '0.634', '0.634', '0.492']\n",
      "1.274 ['0.698', '0.761', '0.634', '0.650', '0.492']\n",
      "2.069 ['0.698', '0.761', '0.634', '0.650', '0.492']\n",
      "3.359 ['0.730', '0.746', '0.634', '0.650', '0.492']\n",
      "5.455 ['0.730', '0.746', '0.634', '0.650', '0.492']\n",
      "8.858 ['0.730', '0.746', '0.634', '0.650', '0.492']\n",
      "14.38 ['0.698', '0.730', '0.634', '0.650', '0.492']\n",
      "23.35 ['0.714', '0.730', '0.634', '0.650', '0.492']\n",
      "37.92 ['0.698', '0.730', '0.634', '0.650', '0.492']\n",
      "61.58 ['0.682', '0.730', '0.634', '0.650', '0.492']\n",
      "100.0 ['0.682', '0.730', '0.634', '0.650', '0.492']\n"
     ]
    }
   ],
   "source": [
    "from sklearn.linear_model import LogisticRegression, LinearRegression\n",
    "from sklearn.model_selection import TimeSeriesSplit\n",
    "from sklearn.metrics import mean_squared_error as mse, log_loss\n",
    "\n",
    "y, X = (results['s1'] - results['s2']).values, results[teamnames].values\n",
    "tscv = TimeSeriesSplit(n_splits=5)\n",
    "\n",
    "C_values = 10**np.linspace(-2, 2,num=20)\n",
    "scores = []\n",
    "\n",
    "\n",
    "for C in C_values:\n",
    "    score = []\n",
    "    for train_index, test_index in tscv.split(X):\n",
    "        X_train, X_test = X[train_index], X[test_index]\n",
    "        y_train, y_test = y[train_index], y[test_index]\n",
    "\n",
    "        clf = LogisticRegression(C=C, random_state=23).fit(X_train, (y_train > 0))\n",
    "        score.append(clf.score(X_test, y_test > 0))\n",
    "        # print(\"Logistic regression accuracy: \", clf.score(X_test, y_test > 0))\n",
    "    scores.append(score)\n",
    "\n",
    "\n",
    "# a = np.array(list(zip(*scores)))\n",
    "\n",
    "for i, score in enumerate(scores):\n",
    "    print(str(C_values[i])[:5], [str(s)[:5] for s in score])\n",
    "# print(scores)"
   ]
  }
 ],
 "metadata": {
  "kernelspec": {
   "display_name": "Python 3.8.10 ('soccer-venv': venv)",
   "language": "python",
   "name": "python3"
  },
  "language_info": {
   "codemirror_mode": {
    "name": "ipython",
    "version": 3
   },
   "file_extension": ".py",
   "mimetype": "text/x-python",
   "name": "python",
   "nbconvert_exporter": "python",
   "pygments_lexer": "ipython3",
   "version": "3.8.10"
  },
  "orig_nbformat": 4,
  "vscode": {
   "interpreter": {
    "hash": "2054d55dd70d5b446ed4bf56b3105c2eea46c8cf09744ab2ca1bd8f8e178d281"
   }
  }
 },
 "nbformat": 4,
 "nbformat_minor": 2
}
